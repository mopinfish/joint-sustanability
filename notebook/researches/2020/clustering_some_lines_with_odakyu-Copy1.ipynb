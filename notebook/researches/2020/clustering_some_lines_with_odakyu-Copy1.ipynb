{
 "cells": [
  {
   "cell_type": "code",
   "execution_count": 2,
   "metadata": {},
   "outputs": [
    {
     "data": {
      "text/plain": [
       "'1.0.0'"
      ]
     },
     "execution_count": 2,
     "metadata": {},
     "output_type": "execute_result"
    }
   ],
   "source": [
    "import networkx as nx\n",
    "import osmnx as ox\n",
    "import requests\n",
    "import sys,os,os.path\n",
    "import pandas as pd\n",
    "import matplotlib.cm as cm\n",
    "import matplotlib.colors as colors\n",
    "import matplotlib.pyplot as plt\n",
    "import seaborn as sns\n",
    "%matplotlib inline\n",
    "\n",
    "ox.config(use_cache=True, log_console=True)\n",
    "ox.__version__"
   ]
  },
  {
   "cell_type": "code",
   "execution_count": 3,
   "metadata": {},
   "outputs": [],
   "source": [
    "stations = pd.read_csv('../../data/stations.csv')"
   ]
  },
  {
   "cell_type": "code",
   "execution_count": 4,
   "metadata": {},
   "outputs": [
    {
     "data": {
      "text/html": [
       "<div>\n",
       "<style scoped>\n",
       "    .dataframe tbody tr th:only-of-type {\n",
       "        vertical-align: middle;\n",
       "    }\n",
       "\n",
       "    .dataframe tbody tr th {\n",
       "        vertical-align: top;\n",
       "    }\n",
       "\n",
       "    .dataframe thead th {\n",
       "        text-align: right;\n",
       "    }\n",
       "</style>\n",
       "<table border=\"1\" class=\"dataframe\">\n",
       "  <thead>\n",
       "    <tr style=\"text-align: right;\">\n",
       "      <th></th>\n",
       "      <th>station_cd</th>\n",
       "      <th>station_g_cd</th>\n",
       "      <th>station_name</th>\n",
       "      <th>station_name_k</th>\n",
       "      <th>station_name_r</th>\n",
       "      <th>line_cd</th>\n",
       "      <th>pref_cd</th>\n",
       "      <th>post</th>\n",
       "      <th>address</th>\n",
       "      <th>lon</th>\n",
       "      <th>lat</th>\n",
       "      <th>open_ymd</th>\n",
       "      <th>close_ymd</th>\n",
       "      <th>e_status</th>\n",
       "      <th>e_sort</th>\n",
       "    </tr>\n",
       "  </thead>\n",
       "  <tbody>\n",
       "    <tr>\n",
       "      <th>0</th>\n",
       "      <td>1110101</td>\n",
       "      <td>1110101</td>\n",
       "      <td>函館</td>\n",
       "      <td>NaN</td>\n",
       "      <td>NaN</td>\n",
       "      <td>11101</td>\n",
       "      <td>1</td>\n",
       "      <td>040-0063</td>\n",
       "      <td>北海道函館市若松町１２-１３</td>\n",
       "      <td>140.726413</td>\n",
       "      <td>41.773709</td>\n",
       "      <td>1902-12-10</td>\n",
       "      <td>0000-00-00</td>\n",
       "      <td>0</td>\n",
       "      <td>1110101</td>\n",
       "    </tr>\n",
       "    <tr>\n",
       "      <th>1</th>\n",
       "      <td>1110102</td>\n",
       "      <td>1110102</td>\n",
       "      <td>五稜郭</td>\n",
       "      <td>NaN</td>\n",
       "      <td>NaN</td>\n",
       "      <td>11101</td>\n",
       "      <td>1</td>\n",
       "      <td>041-0813</td>\n",
       "      <td>函館市亀田本町</td>\n",
       "      <td>140.733539</td>\n",
       "      <td>41.803557</td>\n",
       "      <td>0000-00-00</td>\n",
       "      <td>0000-00-00</td>\n",
       "      <td>0</td>\n",
       "      <td>1110102</td>\n",
       "    </tr>\n",
       "    <tr>\n",
       "      <th>2</th>\n",
       "      <td>1110103</td>\n",
       "      <td>1110103</td>\n",
       "      <td>桔梗</td>\n",
       "      <td>NaN</td>\n",
       "      <td>NaN</td>\n",
       "      <td>11101</td>\n",
       "      <td>1</td>\n",
       "      <td>041-0801</td>\n",
       "      <td>北海道函館市桔梗３丁目４１-３６</td>\n",
       "      <td>140.722952</td>\n",
       "      <td>41.846457</td>\n",
       "      <td>1902-12-10</td>\n",
       "      <td>0000-00-00</td>\n",
       "      <td>0</td>\n",
       "      <td>1110103</td>\n",
       "    </tr>\n",
       "    <tr>\n",
       "      <th>3</th>\n",
       "      <td>1110104</td>\n",
       "      <td>1110104</td>\n",
       "      <td>大中山</td>\n",
       "      <td>NaN</td>\n",
       "      <td>NaN</td>\n",
       "      <td>11101</td>\n",
       "      <td>1</td>\n",
       "      <td>041-1121</td>\n",
       "      <td>亀田郡七飯町大字大中山</td>\n",
       "      <td>140.713580</td>\n",
       "      <td>41.864641</td>\n",
       "      <td>0000-00-00</td>\n",
       "      <td>0000-00-00</td>\n",
       "      <td>0</td>\n",
       "      <td>1110104</td>\n",
       "    </tr>\n",
       "    <tr>\n",
       "      <th>4</th>\n",
       "      <td>1110105</td>\n",
       "      <td>1110105</td>\n",
       "      <td>七飯</td>\n",
       "      <td>NaN</td>\n",
       "      <td>NaN</td>\n",
       "      <td>11101</td>\n",
       "      <td>1</td>\n",
       "      <td>041-1111</td>\n",
       "      <td>亀田郡七飯町字本町</td>\n",
       "      <td>140.688556</td>\n",
       "      <td>41.886971</td>\n",
       "      <td>0000-00-00</td>\n",
       "      <td>0000-00-00</td>\n",
       "      <td>0</td>\n",
       "      <td>1110105</td>\n",
       "    </tr>\n",
       "  </tbody>\n",
       "</table>\n",
       "</div>"
      ],
      "text/plain": [
       "   station_cd  station_g_cd station_name  station_name_k  station_name_r  \\\n",
       "0     1110101       1110101           函館             NaN             NaN   \n",
       "1     1110102       1110102          五稜郭             NaN             NaN   \n",
       "2     1110103       1110103           桔梗             NaN             NaN   \n",
       "3     1110104       1110104          大中山             NaN             NaN   \n",
       "4     1110105       1110105           七飯             NaN             NaN   \n",
       "\n",
       "   line_cd  pref_cd      post           address         lon        lat  \\\n",
       "0    11101        1  040-0063    北海道函館市若松町１２-１３  140.726413  41.773709   \n",
       "1    11101        1  041-0813           函館市亀田本町  140.733539  41.803557   \n",
       "2    11101        1  041-0801  北海道函館市桔梗３丁目４１-３６  140.722952  41.846457   \n",
       "3    11101        1  041-1121       亀田郡七飯町大字大中山  140.713580  41.864641   \n",
       "4    11101        1  041-1111         亀田郡七飯町字本町  140.688556  41.886971   \n",
       "\n",
       "     open_ymd   close_ymd  e_status   e_sort  \n",
       "0  1902-12-10  0000-00-00         0  1110101  \n",
       "1  0000-00-00  0000-00-00         0  1110102  \n",
       "2  1902-12-10  0000-00-00         0  1110103  \n",
       "3  0000-00-00  0000-00-00         0  1110104  \n",
       "4  0000-00-00  0000-00-00         0  1110105  "
      ]
     },
     "execution_count": 4,
     "metadata": {},
     "output_type": "execute_result"
    }
   ],
   "source": [
    "stations.head()"
   ]
  },
  {
   "cell_type": "code",
   "execution_count": 5,
   "metadata": {},
   "outputs": [
    {
     "name": "stdout",
     "output_type": "stream",
     "text": [
      "Reading package lists... Done\n",
      "Building dependency tree       \n",
      "Reading state information... Done\n",
      "E: Unable to locate package git\n"
     ]
    }
   ],
   "source": [
    "#!sudo apt upgrade -y\n",
    "#!sudo apt update -y\n",
    "!sudo apt-get install -y git "
   ]
  },
  {
   "cell_type": "code",
   "execution_count": 6,
   "metadata": {},
   "outputs": [
    {
     "name": "stdout",
     "output_type": "stream",
     "text": [
      "Requirement already satisfied: pykakasi in /opt/conda/lib/python3.9/site-packages (2.0.6)\n",
      "Requirement already satisfied: klepto in /opt/conda/lib/python3.9/site-packages (from pykakasi) (0.2.0)\n",
      "Requirement already satisfied: dill>=0.3.3 in /opt/conda/lib/python3.9/site-packages (from klepto->pykakasi) (0.3.3)\n",
      "Requirement already satisfied: pox>=0.2.9 in /opt/conda/lib/python3.9/site-packages (from klepto->pykakasi) (0.2.9)\n"
     ]
    }
   ],
   "source": [
    "# 日本語・ローマ字変換ライブラリ `pykakasi` をインストール\n",
    "!pip install pykakasi"
   ]
  },
  {
   "cell_type": "code",
   "execution_count": 7,
   "metadata": {},
   "outputs": [],
   "source": [
    "from pykakasi import kakasi\n",
    "\n",
    "kakasi = kakasi()\n",
    "\n",
    "kakasi.setMode('H', 'a')\n",
    "kakasi.setMode('K', 'a')\n",
    "kakasi.setMode('J', 'a')\n",
    "\n",
    "conv = kakasi.getConverter()"
   ]
  },
  {
   "cell_type": "code",
   "execution_count": 8,
   "metadata": {},
   "outputs": [
    {
     "data": {
      "text/html": [
       "<div>\n",
       "<style scoped>\n",
       "    .dataframe tbody tr th:only-of-type {\n",
       "        vertical-align: middle;\n",
       "    }\n",
       "\n",
       "    .dataframe tbody tr th {\n",
       "        vertical-align: top;\n",
       "    }\n",
       "\n",
       "    .dataframe thead th {\n",
       "        text-align: right;\n",
       "    }\n",
       "</style>\n",
       "<table border=\"1\" class=\"dataframe\">\n",
       "  <thead>\n",
       "    <tr style=\"text-align: right;\">\n",
       "      <th></th>\n",
       "      <th>station_cd</th>\n",
       "      <th>station_g_cd</th>\n",
       "      <th>station_name</th>\n",
       "      <th>station_name_k</th>\n",
       "      <th>station_name_r</th>\n",
       "      <th>line_cd</th>\n",
       "      <th>pref_cd</th>\n",
       "      <th>post</th>\n",
       "      <th>address</th>\n",
       "      <th>lon</th>\n",
       "      <th>lat</th>\n",
       "      <th>open_ymd</th>\n",
       "      <th>close_ymd</th>\n",
       "      <th>e_status</th>\n",
       "      <th>e_sort</th>\n",
       "      <th>station_name_roman</th>\n",
       "    </tr>\n",
       "  </thead>\n",
       "  <tbody>\n",
       "    <tr>\n",
       "      <th>0</th>\n",
       "      <td>1110101</td>\n",
       "      <td>1110101</td>\n",
       "      <td>函館</td>\n",
       "      <td>NaN</td>\n",
       "      <td>NaN</td>\n",
       "      <td>11101</td>\n",
       "      <td>1</td>\n",
       "      <td>040-0063</td>\n",
       "      <td>北海道函館市若松町１２-１３</td>\n",
       "      <td>140.726413</td>\n",
       "      <td>41.773709</td>\n",
       "      <td>1902-12-10</td>\n",
       "      <td>0000-00-00</td>\n",
       "      <td>0</td>\n",
       "      <td>1110101</td>\n",
       "      <td>hakodate</td>\n",
       "    </tr>\n",
       "    <tr>\n",
       "      <th>1</th>\n",
       "      <td>1110102</td>\n",
       "      <td>1110102</td>\n",
       "      <td>五稜郭</td>\n",
       "      <td>NaN</td>\n",
       "      <td>NaN</td>\n",
       "      <td>11101</td>\n",
       "      <td>1</td>\n",
       "      <td>041-0813</td>\n",
       "      <td>函館市亀田本町</td>\n",
       "      <td>140.733539</td>\n",
       "      <td>41.803557</td>\n",
       "      <td>0000-00-00</td>\n",
       "      <td>0000-00-00</td>\n",
       "      <td>0</td>\n",
       "      <td>1110102</td>\n",
       "      <td>goryoukaku</td>\n",
       "    </tr>\n",
       "    <tr>\n",
       "      <th>2</th>\n",
       "      <td>1110103</td>\n",
       "      <td>1110103</td>\n",
       "      <td>桔梗</td>\n",
       "      <td>NaN</td>\n",
       "      <td>NaN</td>\n",
       "      <td>11101</td>\n",
       "      <td>1</td>\n",
       "      <td>041-0801</td>\n",
       "      <td>北海道函館市桔梗３丁目４１-３６</td>\n",
       "      <td>140.722952</td>\n",
       "      <td>41.846457</td>\n",
       "      <td>1902-12-10</td>\n",
       "      <td>0000-00-00</td>\n",
       "      <td>0</td>\n",
       "      <td>1110103</td>\n",
       "      <td>kikyou</td>\n",
       "    </tr>\n",
       "    <tr>\n",
       "      <th>3</th>\n",
       "      <td>1110104</td>\n",
       "      <td>1110104</td>\n",
       "      <td>大中山</td>\n",
       "      <td>NaN</td>\n",
       "      <td>NaN</td>\n",
       "      <td>11101</td>\n",
       "      <td>1</td>\n",
       "      <td>041-1121</td>\n",
       "      <td>亀田郡七飯町大字大中山</td>\n",
       "      <td>140.713580</td>\n",
       "      <td>41.864641</td>\n",
       "      <td>0000-00-00</td>\n",
       "      <td>0000-00-00</td>\n",
       "      <td>0</td>\n",
       "      <td>1110104</td>\n",
       "      <td>daichuuyama</td>\n",
       "    </tr>\n",
       "    <tr>\n",
       "      <th>4</th>\n",
       "      <td>1110105</td>\n",
       "      <td>1110105</td>\n",
       "      <td>七飯</td>\n",
       "      <td>NaN</td>\n",
       "      <td>NaN</td>\n",
       "      <td>11101</td>\n",
       "      <td>1</td>\n",
       "      <td>041-1111</td>\n",
       "      <td>亀田郡七飯町字本町</td>\n",
       "      <td>140.688556</td>\n",
       "      <td>41.886971</td>\n",
       "      <td>0000-00-00</td>\n",
       "      <td>0000-00-00</td>\n",
       "      <td>0</td>\n",
       "      <td>1110105</td>\n",
       "      <td>shichimeshi</td>\n",
       "    </tr>\n",
       "    <tr>\n",
       "      <th>...</th>\n",
       "      <td>...</td>\n",
       "      <td>...</td>\n",
       "      <td>...</td>\n",
       "      <td>...</td>\n",
       "      <td>...</td>\n",
       "      <td>...</td>\n",
       "      <td>...</td>\n",
       "      <td>...</td>\n",
       "      <td>...</td>\n",
       "      <td>...</td>\n",
       "      <td>...</td>\n",
       "      <td>...</td>\n",
       "      <td>...</td>\n",
       "      <td>...</td>\n",
       "      <td>...</td>\n",
       "      <td>...</td>\n",
       "    </tr>\n",
       "    <tr>\n",
       "      <th>10850</th>\n",
       "      <td>9992719</td>\n",
       "      <td>9992719</td>\n",
       "      <td>てだこ浦西</td>\n",
       "      <td>NaN</td>\n",
       "      <td>NaN</td>\n",
       "      <td>99927</td>\n",
       "      <td>47</td>\n",
       "      <td>901-2102</td>\n",
       "      <td>沖縄県浦添市前田三丁目21</td>\n",
       "      <td>127.741861</td>\n",
       "      <td>26.241778</td>\n",
       "      <td>2019-10-01</td>\n",
       "      <td>0000-00-00</td>\n",
       "      <td>0</td>\n",
       "      <td>9992719</td>\n",
       "      <td>tedakouranishi</td>\n",
       "    </tr>\n",
       "    <tr>\n",
       "      <th>10851</th>\n",
       "      <td>9992801</td>\n",
       "      <td>1190202</td>\n",
       "      <td>九州鉄道記念館</td>\n",
       "      <td>NaN</td>\n",
       "      <td>NaN</td>\n",
       "      <td>99928</td>\n",
       "      <td>40</td>\n",
       "      <td>800-0000</td>\n",
       "      <td>福岡県北九州市門司区</td>\n",
       "      <td>130.962439</td>\n",
       "      <td>33.944392</td>\n",
       "      <td>0000-00-00</td>\n",
       "      <td>0000-00-00</td>\n",
       "      <td>0</td>\n",
       "      <td>9992801</td>\n",
       "      <td>kyuushuutetsudoukinenkan</td>\n",
       "    </tr>\n",
       "    <tr>\n",
       "      <th>10852</th>\n",
       "      <td>9992802</td>\n",
       "      <td>9992802</td>\n",
       "      <td>出光美術館</td>\n",
       "      <td>NaN</td>\n",
       "      <td>NaN</td>\n",
       "      <td>99928</td>\n",
       "      <td>40</td>\n",
       "      <td>800-0000</td>\n",
       "      <td>福岡県北九州市門司区</td>\n",
       "      <td>130.965292</td>\n",
       "      <td>33.947792</td>\n",
       "      <td>0000-00-00</td>\n",
       "      <td>0000-00-00</td>\n",
       "      <td>0</td>\n",
       "      <td>9992802</td>\n",
       "      <td>idemitsubijutsukan</td>\n",
       "    </tr>\n",
       "    <tr>\n",
       "      <th>10853</th>\n",
       "      <td>9992803</td>\n",
       "      <td>9992803</td>\n",
       "      <td>ノーフォーク広場</td>\n",
       "      <td>NaN</td>\n",
       "      <td>NaN</td>\n",
       "      <td>99928</td>\n",
       "      <td>40</td>\n",
       "      <td>801-0854</td>\n",
       "      <td>福岡県北九州市門司区旧門司</td>\n",
       "      <td>130.964254</td>\n",
       "      <td>33.955973</td>\n",
       "      <td>0000-00-00</td>\n",
       "      <td>0000-00-00</td>\n",
       "      <td>0</td>\n",
       "      <td>9992803</td>\n",
       "      <td>noofookuhiroba</td>\n",
       "    </tr>\n",
       "    <tr>\n",
       "      <th>10854</th>\n",
       "      <td>9992804</td>\n",
       "      <td>9992804</td>\n",
       "      <td>関門海峡めかり</td>\n",
       "      <td>NaN</td>\n",
       "      <td>NaN</td>\n",
       "      <td>99928</td>\n",
       "      <td>40</td>\n",
       "      <td>801-0855</td>\n",
       "      <td>福岡県北九州市門司区門司</td>\n",
       "      <td>130.967347</td>\n",
       "      <td>33.960627</td>\n",
       "      <td>0000-00-00</td>\n",
       "      <td>0000-00-00</td>\n",
       "      <td>0</td>\n",
       "      <td>9992804</td>\n",
       "      <td>kanmonkaikyoumekari</td>\n",
       "    </tr>\n",
       "  </tbody>\n",
       "</table>\n",
       "<p>10855 rows × 16 columns</p>\n",
       "</div>"
      ],
      "text/plain": [
       "       station_cd  station_g_cd station_name  station_name_k  station_name_r  \\\n",
       "0         1110101       1110101           函館             NaN             NaN   \n",
       "1         1110102       1110102          五稜郭             NaN             NaN   \n",
       "2         1110103       1110103           桔梗             NaN             NaN   \n",
       "3         1110104       1110104          大中山             NaN             NaN   \n",
       "4         1110105       1110105           七飯             NaN             NaN   \n",
       "...           ...           ...          ...             ...             ...   \n",
       "10850     9992719       9992719        てだこ浦西             NaN             NaN   \n",
       "10851     9992801       1190202      九州鉄道記念館             NaN             NaN   \n",
       "10852     9992802       9992802        出光美術館             NaN             NaN   \n",
       "10853     9992803       9992803     ノーフォーク広場             NaN             NaN   \n",
       "10854     9992804       9992804      関門海峡めかり             NaN             NaN   \n",
       "\n",
       "       line_cd  pref_cd      post           address         lon        lat  \\\n",
       "0        11101        1  040-0063    北海道函館市若松町１２-１３  140.726413  41.773709   \n",
       "1        11101        1  041-0813           函館市亀田本町  140.733539  41.803557   \n",
       "2        11101        1  041-0801  北海道函館市桔梗３丁目４１-３６  140.722952  41.846457   \n",
       "3        11101        1  041-1121       亀田郡七飯町大字大中山  140.713580  41.864641   \n",
       "4        11101        1  041-1111         亀田郡七飯町字本町  140.688556  41.886971   \n",
       "...        ...      ...       ...               ...         ...        ...   \n",
       "10850    99927       47  901-2102     沖縄県浦添市前田三丁目21  127.741861  26.241778   \n",
       "10851    99928       40  800-0000        福岡県北九州市門司区  130.962439  33.944392   \n",
       "10852    99928       40  800-0000        福岡県北九州市門司区  130.965292  33.947792   \n",
       "10853    99928       40  801-0854     福岡県北九州市門司区旧門司  130.964254  33.955973   \n",
       "10854    99928       40  801-0855      福岡県北九州市門司区門司  130.967347  33.960627   \n",
       "\n",
       "         open_ymd   close_ymd  e_status   e_sort        station_name_roman  \n",
       "0      1902-12-10  0000-00-00         0  1110101                  hakodate  \n",
       "1      0000-00-00  0000-00-00         0  1110102                goryoukaku  \n",
       "2      1902-12-10  0000-00-00         0  1110103                    kikyou  \n",
       "3      0000-00-00  0000-00-00         0  1110104               daichuuyama  \n",
       "4      0000-00-00  0000-00-00         0  1110105               shichimeshi  \n",
       "...           ...         ...       ...      ...                       ...  \n",
       "10850  2019-10-01  0000-00-00         0  9992719            tedakouranishi  \n",
       "10851  0000-00-00  0000-00-00         0  9992801  kyuushuutetsudoukinenkan  \n",
       "10852  0000-00-00  0000-00-00         0  9992802        idemitsubijutsukan  \n",
       "10853  0000-00-00  0000-00-00         0  9992803            noofookuhiroba  \n",
       "10854  0000-00-00  0000-00-00         0  9992804       kanmonkaikyoumekari  \n",
       "\n",
       "[10855 rows x 16 columns]"
      ]
     },
     "execution_count": 8,
     "metadata": {},
     "output_type": "execute_result"
    }
   ],
   "source": [
    "# 駅名のローマ字名を付与\n",
    "stations['station_name_roman'] = stations['station_name'].apply(lambda name: conv.do(name))\n",
    "stations"
   ]
  },
  {
   "cell_type": "code",
   "execution_count": 27,
   "metadata": {},
   "outputs": [],
   "source": [
    "target_stations = stations[\n",
    "        (stations['line_cd'] == 11312) | # 中央線\n",
    "        (stations['line_cd'] == 24001) | # 京王線\n",
    "        (stations['line_cd'] == 27001) | # 京急線\n",
    "        (stations['line_cd'] == 25001)   # 小田急線\n",
    "    ]"
   ]
  },
  {
   "cell_type": "code",
   "execution_count": 28,
   "metadata": {},
   "outputs": [
    {
     "data": {
      "text/plain": [
       "24"
      ]
     },
     "execution_count": 28,
     "metadata": {},
     "output_type": "execute_result"
    }
   ],
   "source": [
    "len(target_stations[target_stations['line_cd'] == 11312]['station_name'])"
   ]
  },
  {
   "cell_type": "code",
   "execution_count": 29,
   "metadata": {},
   "outputs": [],
   "source": [
    "import folium"
   ]
  },
  {
   "cell_type": "code",
   "execution_count": 30,
   "metadata": {},
   "outputs": [
    {
     "ename": "NameError",
     "evalue": "name 'target_startions' is not defined",
     "output_type": "error",
     "traceback": [
      "\u001b[0;31m---------------------------------------------------------------------------\u001b[0m",
      "\u001b[0;31mNameError\u001b[0m                                 Traceback (most recent call last)",
      "\u001b[0;32m<ipython-input-30-acaa6b67ec06>\u001b[0m in \u001b[0;36m<module>\u001b[0;34m\u001b[0m\n\u001b[0;32m----> 1\u001b[0;31m \u001b[0mtarget_startions\u001b[0m\u001b[0;34m[\u001b[0m\u001b[0;34m'line_cd'\u001b[0m\u001b[0;34m]\u001b[0m\u001b[0;34m\u001b[0m\u001b[0;34m\u001b[0m\u001b[0m\n\u001b[0m",
      "\u001b[0;31mNameError\u001b[0m: name 'target_startions' is not defined"
     ]
    }
   ],
   "source": [
    "target_startions['line_cd']"
   ]
  },
  {
   "cell_type": "code",
   "execution_count": 26,
   "metadata": {},
   "outputs": [
    {
     "ename": "SyntaxError",
     "evalue": "invalid character '：' (U+FF1A) (<ipython-input-26-814f6633dd6f>, line 9)",
     "output_type": "error",
     "traceback": [
      "\u001b[0;36m  File \u001b[0;32m\"<ipython-input-26-814f6633dd6f>\"\u001b[0;36m, line \u001b[0;32m9\u001b[0m\n\u001b[0;31m    27001： 'gray',\u001b[0m\n\u001b[0m         ^\u001b[0m\n\u001b[0;31mSyntaxError\u001b[0m\u001b[0;31m:\u001b[0m invalid character '：' (U+FF1A)\n"
     ]
    }
   ],
   "source": [
    "center_lat, center_lon = (35.651820534474, 139.54461236426)\n",
    "\n",
    "_map = folium.Map(location=[center_lat, center_lon], zoom_start=12)\n",
    "\n",
    "colors = {\n",
    "    11312: 'red',\n",
    "    25001: 'blue',\n",
    "    24001: 'pink',\n",
    "    27001： 'gray',\n",
    "}\n",
    "\n",
    "\n",
    "for _, station in target_stations.iterrows():\n",
    "    color = colors[station['line_cd']]\n",
    "    folium.Marker([station.lat, station.lon], popup=str(station['station_name']), icon=folium.Icon(color=color)).add_to(_map)\n",
    "\n",
    "_map"
   ]
  },
  {
   "cell_type": "code",
   "execution_count": null,
   "metadata": {},
   "outputs": [],
   "source": [
    "#駅の800m範囲内のグラフ構造の配列を取得\n",
    "def get_stats(data):\n",
    "    wurster_hall = (data['lat'], data['lon'])\n",
    "    one_mile = 800 #meters\n",
    "    G = ox.graph_from_point(wurster_hall, dist=one_mile, network_type='drive')\n",
    "\n",
    "    # what sized area does our network cover in square meters?\n",
    "    G_proj = ox.project_graph(G)\n",
    "    nodes_proj = ox.graph_to_gdfs(G_proj, edges=False)\n",
    "    graph_area_m = nodes_proj.unary_union.convex_hull.area\n",
    "    \n",
    "    # show some basic stats about the network\n",
    "    stats = ox.basic_stats(G_proj, area=graph_area_m, clean_intersects=True, circuity_dist='euclidean')\n",
    "    return pd.Series(stats)\n",
    "    "
   ]
  },
  {
   "cell_type": "code",
   "execution_count": null,
   "metadata": {},
   "outputs": [],
   "source": [
    "#駅の800m範囲内のグラフ構造の配列を取得\n",
    "stats_list = target_stations.apply(get_stats, axis=1)\n",
    "stats_list"
   ]
  },
  {
   "cell_type": "code",
   "execution_count": null,
   "metadata": {},
   "outputs": [],
   "source": [
    "len(stats_list)"
   ]
  },
  {
   "cell_type": "code",
   "execution_count": null,
   "metadata": {},
   "outputs": [],
   "source": [
    "target_stations_with_stats = pd.concat([target_stations, stats_list], axis=1)"
   ]
  },
  {
   "cell_type": "code",
   "execution_count": null,
   "metadata": {},
   "outputs": [],
   "source": [
    "target_stations_with_stats.to_csv('../../data/target_three_stations_with_stats.csv')"
   ]
  },
  {
   "cell_type": "code",
   "execution_count": null,
   "metadata": {},
   "outputs": [],
   "source": [
    "target_stations_with_stats = pd.read_csv('../../data/target_three_stations_with_stats.csv')"
   ]
  },
  {
   "cell_type": "code",
   "execution_count": null,
   "metadata": {},
   "outputs": [],
   "source": [
    "target_stations_with_stats"
   ]
  },
  {
   "cell_type": "code",
   "execution_count": null,
   "metadata": {},
   "outputs": [],
   "source": []
  },
  {
   "cell_type": "code",
   "execution_count": null,
   "metadata": {},
   "outputs": [],
   "source": []
  },
  {
   "cell_type": "code",
   "execution_count": null,
   "metadata": {},
   "outputs": [],
   "source": [
    "# 路線ごとの交差点数、道路数のグラフ化\n",
    "ax = None\n",
    "colors = {11312: 'red', 24001: 'pink', 25001: 'blue'}\n",
    "for i, station in target_stations_with_stats.groupby('line_cd'):\n",
    "    station.plot.scatter(x='n', y='m', color=colors[i], label='cluster{i}', ax=ax)"
   ]
  },
  {
   "cell_type": "code",
   "execution_count": null,
   "metadata": {},
   "outputs": [],
   "source": [
    "chuo_stations = target_stations_with_stats[target_stations_with_stats['line_cd'] == 11312]\n",
    "keio_stations = target_stations_with_stats[target_stations_with_stats['line_cd'] == 24001]\n",
    "odakyu_stations = target_stations_with_stats[target_stations_with_stats['line_cd'] == 25001]"
   ]
  },
  {
   "cell_type": "code",
   "execution_count": null,
   "metadata": {},
   "outputs": [],
   "source": [
    "plt.hist([chuo_stations['n'], keio_stations['n']], bins = 20, color=['red', 'pink'])\n"
   ]
  },
  {
   "cell_type": "code",
   "execution_count": null,
   "metadata": {},
   "outputs": [],
   "source": [
    "plt.hist([chuo_stations['m'], keio_stations['m']], bins = 20, color=['red', 'pink'])\n"
   ]
  },
  {
   "cell_type": "code",
   "execution_count": null,
   "metadata": {},
   "outputs": [],
   "source": [
    "# k-means法を使うためのインポート\n",
    "from sklearn.cluster import KMeans\n",
    "from sklearn.preprocessing import StandardScaler\n",
    "\n",
    "# データの列の絞り込み\n",
    "stations_sub = target_stations_with_stats[['n','m']]\n",
    "\n",
    "# 標準化\n",
    "sc = StandardScaler()\n",
    "sc.fit(stations_sub)\n",
    "stations_sub_std = sc.transform(stations_sub)"
   ]
  },
  {
   "cell_type": "code",
   "execution_count": null,
   "metadata": {},
   "outputs": [],
   "source": [
    "# KMeansクラスの初期化\n",
    "kmeans = KMeans(init='random', n_clusters=3, random_state=0)\n",
    "\n",
    "# クラスターの重心を計算\n",
    "kmeans.fit(stations_sub_std)\n",
    "\n",
    "# クラスター番号をpandasのSeriesオブジェクトに変換\n",
    "labels = pd.Series(kmeans.labels_, name='cluster_number', index=target_stations_with_stats.index)\n",
    "\n",
    "# クラスター番号と件数を表示\n",
    "print(labels.value_counts(sort=False))\n",
    "\n",
    "# グラフを描画\n",
    "ax = labels.value_counts(sort=False).plot(kind='bar')\n",
    "ax.set_xlabel('cluster number')\n",
    "ax.set_ylabel('count')"
   ]
  },
  {
   "cell_type": "code",
   "execution_count": null,
   "metadata": {},
   "outputs": [],
   "source": [
    "# エルボー方による推定。クラスター数を1から20に増やして、それぞれの距離の総和を求める\n",
    "dist_list =[]\n",
    "for i in range(1,20):\n",
    "    kmeans= KMeans(n_clusters=i, init='random', random_state=0)\n",
    "    kmeans.fit(stations_sub_std)\n",
    "    dist_list.append(kmeans.inertia_)\n",
    "    \n",
    "# グラフを表示\n",
    "plt.plot(range(1,20), dist_list,marker='+')\n",
    "plt.xlabel('Number of clusters')\n",
    "plt.ylabel('Distortion')"
   ]
  },
  {
   "cell_type": "code",
   "execution_count": null,
   "metadata": {},
   "outputs": [],
   "source": [
    "# 駅のデータにクラスター番号のデータを結合\n",
    "stations_with_cluster = pd.concat([target_stations_with_stats, pd.Series(labels, index=target_stations_with_stats.index)], axis=1)\n",
    "\n",
    "# 先頭の5行を表示\n",
    "stations_with_cluster.head()"
   ]
  },
  {
   "cell_type": "code",
   "execution_count": null,
   "metadata": {},
   "outputs": [],
   "source": [
    "stations_0 = stations_with_cluster[stations_with_cluster['cluster_number'] == 0]\n",
    "stations_1 = stations_with_cluster[stations_with_cluster['cluster_number'] == 1]\n",
    "stations_2 = stations_with_cluster[stations_with_cluster['cluster_number'] == 2]\n",
    "# クラスタリング結果のグラフ化\n",
    "ax = None\n",
    "colors = ['red', 'pink', 'blue']\n",
    "for i, station in stations_with_cluster.groupby('cluster_number'):\n",
    "    station.plot.scatter(x='n', y='m', color=colors[i], label='cluster{i}', ax=ax)"
   ]
  },
  {
   "cell_type": "code",
   "execution_count": null,
   "metadata": {},
   "outputs": [],
   "source": [
    "# クラスタ番号と年齢層を軸に集計し、年齢層を列に設定\n",
    "cross_cluster_line_cd = stations_with_cluster.groupby(['cluster_number', 'line_cd']).size().unstack().fillna(0)\n",
    "cross_cluster_line_cd"
   ]
  },
  {
   "cell_type": "code",
   "execution_count": null,
   "metadata": {},
   "outputs": [],
   "source": [
    "sns.heatmap(cross_cluster_line_cd.apply(lambda x : x/x.sum(), axis=1), cmap='Blues')"
   ]
  },
  {
   "cell_type": "code",
   "execution_count": null,
   "metadata": {},
   "outputs": [],
   "source": [
    "print([station['station_name'] for _, station in stations_with_cluster.iterrows() if (station['cluster_number'] == 0)])"
   ]
  },
  {
   "cell_type": "code",
   "execution_count": null,
   "metadata": {},
   "outputs": [],
   "source": [
    "print([station['station_name'] for _, station in stations_with_cluster.iterrows() if (station['cluster_number'] == 1)])"
   ]
  },
  {
   "cell_type": "code",
   "execution_count": null,
   "metadata": {},
   "outputs": [],
   "source": [
    "print([station['station_name'] for _, station in stations_with_cluster.iterrows() if (station['cluster_number'] == 2)])"
   ]
  }
 ],
 "metadata": {
  "kernelspec": {
   "display_name": "Python 3",
   "language": "python",
   "name": "python3"
  },
  "language_info": {
   "codemirror_mode": {
    "name": "ipython",
    "version": 3
   },
   "file_extension": ".py",
   "mimetype": "text/x-python",
   "name": "python",
   "nbconvert_exporter": "python",
   "pygments_lexer": "ipython3",
   "version": "3.9.1"
  }
 },
 "nbformat": 4,
 "nbformat_minor": 4
}
