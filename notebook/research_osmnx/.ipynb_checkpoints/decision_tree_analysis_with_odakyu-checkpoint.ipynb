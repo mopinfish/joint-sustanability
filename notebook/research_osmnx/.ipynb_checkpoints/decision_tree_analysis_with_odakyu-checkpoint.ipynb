{
 "cells": [
  {
   "cell_type": "code",
   "execution_count": 25,
   "metadata": {},
   "outputs": [],
   "source": [
    "import pandas as pd\n",
    "import matplotlib.cm as cm\n",
    "import matplotlib.colors as colors\n",
    "import matplotlib.pyplot as plt\n",
    "import seaborn as sns\n",
    "%matplotlib inline"
   ]
  },
  {
   "cell_type": "code",
   "execution_count": 26,
   "metadata": {},
   "outputs": [],
   "source": [
    "stations = pd.read_csv('../../data/target_three_stations_with_stats.csv')"
   ]
  },
  {
   "cell_type": "code",
   "execution_count": 27,
   "metadata": {},
   "outputs": [
    {
     "data": {
      "text/html": [
       "<div>\n",
       "<style scoped>\n",
       "    .dataframe tbody tr th:only-of-type {\n",
       "        vertical-align: middle;\n",
       "    }\n",
       "\n",
       "    .dataframe tbody tr th {\n",
       "        vertical-align: top;\n",
       "    }\n",
       "\n",
       "    .dataframe thead th {\n",
       "        text-align: right;\n",
       "    }\n",
       "</style>\n",
       "<table border=\"1\" class=\"dataframe\">\n",
       "  <thead>\n",
       "    <tr style=\"text-align: right;\">\n",
       "      <th></th>\n",
       "      <th>Unnamed: 0</th>\n",
       "      <th>station_cd</th>\n",
       "      <th>station_g_cd</th>\n",
       "      <th>station_name</th>\n",
       "      <th>station_name_k</th>\n",
       "      <th>station_name_r</th>\n",
       "      <th>line_cd</th>\n",
       "      <th>pref_cd</th>\n",
       "      <th>post</th>\n",
       "      <th>address</th>\n",
       "      <th>...</th>\n",
       "      <th>street_length_avg</th>\n",
       "      <th>street_segments_count</th>\n",
       "      <th>node_density_km</th>\n",
       "      <th>intersection_density_km</th>\n",
       "      <th>edge_density_km</th>\n",
       "      <th>street_density_km</th>\n",
       "      <th>circuity_avg</th>\n",
       "      <th>self_loop_proportion</th>\n",
       "      <th>clean_intersection_count</th>\n",
       "      <th>clean_intersection_density_km</th>\n",
       "    </tr>\n",
       "  </thead>\n",
       "  <tbody>\n",
       "    <tr>\n",
       "      <th>15</th>\n",
       "      <td>1519</td>\n",
       "      <td>1131224</td>\n",
       "      <td>1131106</td>\n",
       "      <td>国分寺</td>\n",
       "      <td>NaN</td>\n",
       "      <td>NaN</td>\n",
       "      <td>11312</td>\n",
       "      <td>13</td>\n",
       "      <td>185-0012</td>\n",
       "      <td>東京都国分寺市本町二丁目1-23</td>\n",
       "      <td>...</td>\n",
       "      <td>61.955089</td>\n",
       "      <td>809</td>\n",
       "      <td>238.489085</td>\n",
       "      <td>215.974381</td>\n",
       "      <td>41549.048454</td>\n",
       "      <td>20897.675696</td>\n",
       "      <td>1.06185</td>\n",
       "      <td>0.0</td>\n",
       "      <td>339</td>\n",
       "      <td>141.342307</td>\n",
       "    </tr>\n",
       "  </tbody>\n",
       "</table>\n",
       "<p>1 rows × 37 columns</p>\n",
       "</div>"
      ],
      "text/plain": [
       "    Unnamed: 0  station_cd  station_g_cd station_name  station_name_k  \\\n",
       "15        1519     1131224       1131106          国分寺             NaN   \n",
       "\n",
       "    station_name_r  line_cd  pref_cd      post           address  ...  \\\n",
       "15             NaN    11312       13  185-0012  東京都国分寺市本町二丁目1-23  ...   \n",
       "\n",
       "    street_length_avg  street_segments_count node_density_km  \\\n",
       "15          61.955089                    809      238.489085   \n",
       "\n",
       "   intersection_density_km  edge_density_km  street_density_km circuity_avg  \\\n",
       "15              215.974381     41549.048454       20897.675696      1.06185   \n",
       "\n",
       "    self_loop_proportion  clean_intersection_count  \\\n",
       "15                   0.0                       339   \n",
       "\n",
       "    clean_intersection_density_km  \n",
       "15                     141.342307  \n",
       "\n",
       "[1 rows x 37 columns]"
      ]
     },
     "execution_count": 27,
     "metadata": {},
     "output_type": "execute_result"
    }
   ],
   "source": [
    "stations[stations['station_name_roman'] == 'kokubunji']"
   ]
  },
  {
   "cell_type": "code",
   "execution_count": 28,
   "metadata": {},
   "outputs": [
    {
     "data": {
      "text/html": [
       "<div>\n",
       "<style scoped>\n",
       "    .dataframe tbody tr th:only-of-type {\n",
       "        vertical-align: middle;\n",
       "    }\n",
       "\n",
       "    .dataframe tbody tr th {\n",
       "        vertical-align: top;\n",
       "    }\n",
       "\n",
       "    .dataframe thead th {\n",
       "        text-align: right;\n",
       "    }\n",
       "</style>\n",
       "<table border=\"1\" class=\"dataframe\">\n",
       "  <thead>\n",
       "    <tr style=\"text-align: right;\">\n",
       "      <th></th>\n",
       "      <th>station_name</th>\n",
       "      <th>line_cd</th>\n",
       "      <th>address</th>\n",
       "      <th>lat</th>\n",
       "      <th>lon</th>\n",
       "    </tr>\n",
       "  </thead>\n",
       "  <tbody>\n",
       "    <tr>\n",
       "      <th>0</th>\n",
       "      <td>東京</td>\n",
       "      <td>11312</td>\n",
       "      <td>東京都千代田区丸の内一丁目</td>\n",
       "      <td>35.681391</td>\n",
       "      <td>139.766103</td>\n",
       "    </tr>\n",
       "    <tr>\n",
       "      <th>1</th>\n",
       "      <td>神田</td>\n",
       "      <td>11312</td>\n",
       "      <td>東京都千代田区鍛冶町二丁目13-1</td>\n",
       "      <td>35.691173</td>\n",
       "      <td>139.770641</td>\n",
       "    </tr>\n",
       "    <tr>\n",
       "      <th>2</th>\n",
       "      <td>御茶ノ水</td>\n",
       "      <td>11312</td>\n",
       "      <td>千代田区神田駿河台２丁目</td>\n",
       "      <td>35.699605</td>\n",
       "      <td>139.764955</td>\n",
       "    </tr>\n",
       "    <tr>\n",
       "      <th>3</th>\n",
       "      <td>四ツ谷</td>\n",
       "      <td>11312</td>\n",
       "      <td>東京都新宿区四谷一丁目</td>\n",
       "      <td>35.686041</td>\n",
       "      <td>139.730644</td>\n",
       "    </tr>\n",
       "    <tr>\n",
       "      <th>4</th>\n",
       "      <td>新宿</td>\n",
       "      <td>11312</td>\n",
       "      <td>東京都新宿区新宿三丁目38-1</td>\n",
       "      <td>35.689729</td>\n",
       "      <td>139.700464</td>\n",
       "    </tr>\n",
       "    <tr>\n",
       "      <th>...</th>\n",
       "      <td>...</td>\n",
       "      <td>...</td>\n",
       "      <td>...</td>\n",
       "      <td>...</td>\n",
       "      <td>...</td>\n",
       "    </tr>\n",
       "    <tr>\n",
       "      <th>98</th>\n",
       "      <td>栢山</td>\n",
       "      <td>25001</td>\n",
       "      <td>小田原市栢山</td>\n",
       "      <td>35.310679</td>\n",
       "      <td>139.142580</td>\n",
       "    </tr>\n",
       "    <tr>\n",
       "      <th>99</th>\n",
       "      <td>富水</td>\n",
       "      <td>25001</td>\n",
       "      <td>小田原市堀之内</td>\n",
       "      <td>35.296759</td>\n",
       "      <td>139.145166</td>\n",
       "    </tr>\n",
       "    <tr>\n",
       "      <th>100</th>\n",
       "      <td>螢田</td>\n",
       "      <td>25001</td>\n",
       "      <td>小田原市蓮正寺</td>\n",
       "      <td>35.285055</td>\n",
       "      <td>139.152036</td>\n",
       "    </tr>\n",
       "    <tr>\n",
       "      <th>101</th>\n",
       "      <td>足柄</td>\n",
       "      <td>25001</td>\n",
       "      <td>小田原市扇町３丁目</td>\n",
       "      <td>35.271763</td>\n",
       "      <td>139.154470</td>\n",
       "    </tr>\n",
       "    <tr>\n",
       "      <th>102</th>\n",
       "      <td>小田原</td>\n",
       "      <td>25001</td>\n",
       "      <td>小田原市栄町１丁目</td>\n",
       "      <td>35.256229</td>\n",
       "      <td>139.155396</td>\n",
       "    </tr>\n",
       "  </tbody>\n",
       "</table>\n",
       "<p>103 rows × 5 columns</p>\n",
       "</div>"
      ],
      "text/plain": [
       "    station_name  line_cd            address        lat         lon\n",
       "0             東京    11312      東京都千代田区丸の内一丁目  35.681391  139.766103\n",
       "1             神田    11312  東京都千代田区鍛冶町二丁目13-1  35.691173  139.770641\n",
       "2           御茶ノ水    11312       千代田区神田駿河台２丁目  35.699605  139.764955\n",
       "3            四ツ谷    11312        東京都新宿区四谷一丁目  35.686041  139.730644\n",
       "4             新宿    11312    東京都新宿区新宿三丁目38-1  35.689729  139.700464\n",
       "..           ...      ...                ...        ...         ...\n",
       "98            栢山    25001             小田原市栢山  35.310679  139.142580\n",
       "99            富水    25001            小田原市堀之内  35.296759  139.145166\n",
       "100           螢田    25001            小田原市蓮正寺  35.285055  139.152036\n",
       "101           足柄    25001          小田原市扇町３丁目  35.271763  139.154470\n",
       "102          小田原    25001          小田原市栄町１丁目  35.256229  139.155396\n",
       "\n",
       "[103 rows x 5 columns]"
      ]
     },
     "execution_count": 28,
     "metadata": {},
     "output_type": "execute_result"
    }
   ],
   "source": [
    "stations[['station_name', 'line_cd', 'address', 'lat', 'lon']]"
   ]
  },
  {
   "cell_type": "code",
   "execution_count": 29,
   "metadata": {},
   "outputs": [],
   "source": [
    "X_columns = ['n', 'm', 'k_avg', 'intersection_count',\n",
    "       'streets_per_node_avg', 'edge_length_total', 'edge_length_avg',\n",
    "       'street_length_total', 'street_length_avg', 'street_segments_count',\n",
    "       'node_density_km', 'intersection_density_km', 'edge_density_km',\n",
    "       'street_density_km', 'circuity_avg', 'self_loop_proportion',\n",
    "       'clean_intersection_count', 'clean_intersection_density_km']\n",
    "y_columns = ['line_cd']"
   ]
  },
  {
   "cell_type": "code",
   "execution_count": 30,
   "metadata": {},
   "outputs": [
    {
     "name": "stdout",
     "output_type": "stream",
     "text": [
      "正解率(train):0.786\n"
     ]
    }
   ],
   "source": [
    "from sklearn.tree import  DecisionTreeClassifier\n",
    "from sklearn.model_selection import train_test_split\n",
    "\n",
    "# データ分割\n",
    "X = stations[X_columns]\n",
    "y = stations[y_columns]\n",
    "X_train = X\n",
    "y_train = y\n",
    "#X_train, X_test, y_train, y_test = train_test_split(X, y, random_state=0)\n",
    "\n",
    "# 決定木クラスの初期化と学習\n",
    "model = DecisionTreeClassifier(criterion='entropy', max_depth=5, random_state=0)\n",
    "model.fit(X_train, y_train)\n",
    "\n",
    "print('正解率(train):{:.3f}'.format(model.score(X_train, y_train)))\n",
    "#print('正解率(test):{:.3f}'.format(model.score(X_test, y_test)))"
   ]
  },
  {
   "cell_type": "code",
   "execution_count": 24,
   "metadata": {},
   "outputs": [
    {
     "data": {
      "image/png": "[encoded data removed]",
      "text/plain": [
       "<Figure size 1080x576 with 1 Axes>"
      ]
     },
     "metadata": {
      "needs_background": "light"
     },
     "output_type": "display_data"
    }
   ],
   "source": [
    "# 参考プログラム\n",
    "from sklearn import tree\n",
    "from sklearn.tree import plot_tree\n",
    "\n",
    "fig = plt.figure(figsize=(15, 8))\n",
    "ax = fig.add_subplot()\n",
    "plot_tree(model, feature_names=X_columns, ax=ax, class_names=['chuo', 'keio', 'odakyu'], filled=True);\n"
   ]
  },
  {
   "cell_type": "code",
   "execution_count": 31,
   "metadata": {},
   "outputs": [
    {
     "name": "stdout",
     "output_type": "stream",
     "text": [
      "circuity_avg\n",
      "streets_per_node_avg\n",
      "edge_length_total\n",
      "street_length_avg\n",
      "clean_intersection_density_km\n",
      "k_avg\n",
      "intersection_count\n"
     ]
    }
   ],
   "source": [
    "print(X_columns[14])\n",
    "print(X_columns[4])\n",
    "\n",
    "print(X_columns[5])\n",
    "print(X_columns[8])\n",
    "print(X_columns[17])\n",
    "print(X_columns[2])\n",
    "print(X_columns[3])"
   ]
  },
  {
   "cell_type": "code",
   "execution_count": 32,
   "metadata": {},
   "outputs": [
    {
     "data": {
      "image/png": "[encoded data removed]",
      "text/plain": [
       "<Figure size 432x288 with 1 Axes>"
      ]
     },
     "metadata": {
      "needs_background": "light"
     },
     "output_type": "display_data"
    },
    {
     "data": {
      "image/png": "[encoded data removed]",
      "text/plain": [
       "<Figure size 432x288 with 1 Axes>"
      ]
     },
     "metadata": {
      "needs_background": "light"
     },
     "output_type": "display_data"
    },
    {
     "data": {
      "image/png": "[encoded data removed]",
      "text/plain": [
       "<Figure size 432x288 with 1 Axes>"
      ]
     },
     "metadata": {
      "needs_background": "light"
     },
     "output_type": "display_data"
    }
   ],
   "source": [
    "# 路線ごとの回路の平均数、交差点あたりの通り数の平均のグラフ化\n",
    "ax = None\n",
    "colors = {11312: 'red', 24001: 'pink', 25001: 'blue'}\n",
    "for i, station in stations.groupby('line_cd'):\n",
    "    station.plot.scatter(x='k_avg', y='intersection_count', color=colors[i], label='cluster{i}', ax=ax)"
   ]
  },
  {
   "cell_type": "code",
   "execution_count": 33,
   "metadata": {},
   "outputs": [],
   "source": [
    "# k-means法を使うためのインポート\n",
    "from sklearn.cluster import KMeans\n",
    "from sklearn.preprocessing import StandardScaler\n",
    "\n",
    "# データの列の絞り込み\n",
    "stations_sub = stations[['k_avg','intersection_count']]\n",
    "\n",
    "# 標準化\n",
    "sc = StandardScaler()\n",
    "sc.fit(stations_sub)\n",
    "stations_sub_std = sc.transform(stations_sub)"
   ]
  },
  {
   "cell_type": "code",
   "execution_count": 35,
   "metadata": {},
   "outputs": [
    {
     "name": "stdout",
     "output_type": "stream",
     "text": [
      "0    74\n",
      "1     9\n",
      "2    20\n",
      "Name: cluster_number, dtype: int64\n"
     ]
    },
    {
     "data": {
      "text/plain": [
       "Text(0, 0.5, 'count')"
      ]
     },
     "execution_count": 35,
     "metadata": {},
     "output_type": "execute_result"
    },
    {
     "data": {
      "image/png": "[encoded data removed]",
      "text/plain": [
       "<Figure size 432x288 with 1 Axes>"
      ]
     },
     "metadata": {
      "needs_background": "light"
     },
     "output_type": "display_data"
    }
   ],
   "source": [
    "# KMeansクラスの初期化\n",
    "kmeans = KMeans(init='random', n_clusters=3, random_state=0)\n",
    "\n",
    "# クラスターの重心を計算\n",
    "kmeans.fit(stations_sub_std)\n",
    "\n",
    "# クラスター番号をpandasのSeriesオブジェクトに変換\n",
    "labels = pd.Series(kmeans.labels_, name='cluster_number', index=stations.index)\n",
    "\n",
    "# クラスター番号と件数を表示\n",
    "print(labels.value_counts(sort=False))\n",
    "\n",
    "# グラフを描画\n",
    "ax = labels.value_counts(sort=False).plot(kind='bar')\n",
    "ax.set_xlabel('cluster number')\n",
    "ax.set_ylabel('count')"
   ]
  },
  {
   "cell_type": "code",
   "execution_count": 36,
   "metadata": {},
   "outputs": [
    {
     "data": {
      "text/html": [
       "<div>\n",
       "<style scoped>\n",
       "    .dataframe tbody tr th:only-of-type {\n",
       "        vertical-align: middle;\n",
       "    }\n",
       "\n",
       "    .dataframe tbody tr th {\n",
       "        vertical-align: top;\n",
       "    }\n",
       "\n",
       "    .dataframe thead th {\n",
       "        text-align: right;\n",
       "    }\n",
       "</style>\n",
       "<table border=\"1\" class=\"dataframe\">\n",
       "  <thead>\n",
       "    <tr style=\"text-align: right;\">\n",
       "      <th></th>\n",
       "      <th>Unnamed: 0</th>\n",
       "      <th>station_cd</th>\n",
       "      <th>station_g_cd</th>\n",
       "      <th>station_name</th>\n",
       "      <th>station_name_k</th>\n",
       "      <th>station_name_r</th>\n",
       "      <th>line_cd</th>\n",
       "      <th>pref_cd</th>\n",
       "      <th>post</th>\n",
       "      <th>address</th>\n",
       "      <th>...</th>\n",
       "      <th>street_segments_count</th>\n",
       "      <th>node_density_km</th>\n",
       "      <th>intersection_density_km</th>\n",
       "      <th>edge_density_km</th>\n",
       "      <th>street_density_km</th>\n",
       "      <th>circuity_avg</th>\n",
       "      <th>self_loop_proportion</th>\n",
       "      <th>clean_intersection_count</th>\n",
       "      <th>clean_intersection_density_km</th>\n",
       "      <th>cluster_number</th>\n",
       "    </tr>\n",
       "  </thead>\n",
       "  <tbody>\n",
       "    <tr>\n",
       "      <th>0</th>\n",
       "      <td>1504</td>\n",
       "      <td>1131201</td>\n",
       "      <td>1130101</td>\n",
       "      <td>東京</td>\n",
       "      <td>NaN</td>\n",
       "      <td>NaN</td>\n",
       "      <td>11312</td>\n",
       "      <td>13</td>\n",
       "      <td>100-0005</td>\n",
       "      <td>東京都千代田区丸の内一丁目</td>\n",
       "      <td>...</td>\n",
       "      <td>680</td>\n",
       "      <td>189.211808</td>\n",
       "      <td>186.109975</td>\n",
       "      <td>26330.970417</td>\n",
       "      <td>22499.049783</td>\n",
       "      <td>1.014035</td>\n",
       "      <td>0.001250</td>\n",
       "      <td>239</td>\n",
       "      <td>105.905438</td>\n",
       "      <td>1</td>\n",
       "    </tr>\n",
       "    <tr>\n",
       "      <th>1</th>\n",
       "      <td>1505</td>\n",
       "      <td>1131202</td>\n",
       "      <td>1130223</td>\n",
       "      <td>神田</td>\n",
       "      <td>NaN</td>\n",
       "      <td>NaN</td>\n",
       "      <td>11312</td>\n",
       "      <td>13</td>\n",
       "      <td>101-0044</td>\n",
       "      <td>東京都千代田区鍛冶町二丁目13-1</td>\n",
       "      <td>...</td>\n",
       "      <td>1574</td>\n",
       "      <td>403.986454</td>\n",
       "      <td>398.583343</td>\n",
       "      <td>43598.513632</td>\n",
       "      <td>35685.441016</td>\n",
       "      <td>1.010215</td>\n",
       "      <td>0.000514</td>\n",
       "      <td>511</td>\n",
       "      <td>212.383825</td>\n",
       "      <td>1</td>\n",
       "    </tr>\n",
       "    <tr>\n",
       "      <th>2</th>\n",
       "      <td>1506</td>\n",
       "      <td>1131203</td>\n",
       "      <td>1131203</td>\n",
       "      <td>御茶ノ水</td>\n",
       "      <td>NaN</td>\n",
       "      <td>NaN</td>\n",
       "      <td>11312</td>\n",
       "      <td>13</td>\n",
       "      <td>101-0062</td>\n",
       "      <td>千代田区神田駿河台２丁目</td>\n",
       "      <td>...</td>\n",
       "      <td>1745</td>\n",
       "      <td>441.539940</td>\n",
       "      <td>430.401996</td>\n",
       "      <td>44360.780311</td>\n",
       "      <td>32394.428182</td>\n",
       "      <td>1.008452</td>\n",
       "      <td>0.000000</td>\n",
       "      <td>543</td>\n",
       "      <td>215.996565</td>\n",
       "      <td>1</td>\n",
       "    </tr>\n",
       "    <tr>\n",
       "      <th>3</th>\n",
       "      <td>1507</td>\n",
       "      <td>1131207</td>\n",
       "      <td>1131102</td>\n",
       "      <td>四ツ谷</td>\n",
       "      <td>NaN</td>\n",
       "      <td>NaN</td>\n",
       "      <td>11312</td>\n",
       "      <td>13</td>\n",
       "      <td>160-0004</td>\n",
       "      <td>東京都新宿区四谷一丁目</td>\n",
       "      <td>...</td>\n",
       "      <td>671</td>\n",
       "      <td>202.694435</td>\n",
       "      <td>170.001784</td>\n",
       "      <td>28946.199668</td>\n",
       "      <td>18123.142752</td>\n",
       "      <td>1.041690</td>\n",
       "      <td>0.000000</td>\n",
       "      <td>257</td>\n",
       "      <td>105.025141</td>\n",
       "      <td>1</td>\n",
       "    </tr>\n",
       "    <tr>\n",
       "      <th>4</th>\n",
       "      <td>1508</td>\n",
       "      <td>1131211</td>\n",
       "      <td>1130208</td>\n",
       "      <td>新宿</td>\n",
       "      <td>NaN</td>\n",
       "      <td>NaN</td>\n",
       "      <td>11312</td>\n",
       "      <td>13</td>\n",
       "      <td>160-0022</td>\n",
       "      <td>東京都新宿区新宿三丁目38-1</td>\n",
       "      <td>...</td>\n",
       "      <td>1093</td>\n",
       "      <td>295.499671</td>\n",
       "      <td>281.955936</td>\n",
       "      <td>36087.051021</td>\n",
       "      <td>24851.686072</td>\n",
       "      <td>1.022940</td>\n",
       "      <td>0.000000</td>\n",
       "      <td>396</td>\n",
       "      <td>162.524819</td>\n",
       "      <td>1</td>\n",
       "    </tr>\n",
       "  </tbody>\n",
       "</table>\n",
       "<p>5 rows × 38 columns</p>\n",
       "</div>"
      ],
      "text/plain": [
       "   Unnamed: 0  station_cd  station_g_cd station_name  station_name_k  \\\n",
       "0        1504     1131201       1130101           東京             NaN   \n",
       "1        1505     1131202       1130223           神田             NaN   \n",
       "2        1506     1131203       1131203         御茶ノ水             NaN   \n",
       "3        1507     1131207       1131102          四ツ谷             NaN   \n",
       "4        1508     1131211       1130208           新宿             NaN   \n",
       "\n",
       "   station_name_r  line_cd  pref_cd      post            address  ...  \\\n",
       "0             NaN    11312       13  100-0005      東京都千代田区丸の内一丁目  ...   \n",
       "1             NaN    11312       13  101-0044  東京都千代田区鍛冶町二丁目13-1  ...   \n",
       "2             NaN    11312       13  101-0062       千代田区神田駿河台２丁目  ...   \n",
       "3             NaN    11312       13  160-0004        東京都新宿区四谷一丁目  ...   \n",
       "4             NaN    11312       13  160-0022    東京都新宿区新宿三丁目38-1  ...   \n",
       "\n",
       "   street_segments_count  node_density_km intersection_density_km  \\\n",
       "0                    680       189.211808              186.109975   \n",
       "1                   1574       403.986454              398.583343   \n",
       "2                   1745       441.539940              430.401996   \n",
       "3                    671       202.694435              170.001784   \n",
       "4                   1093       295.499671              281.955936   \n",
       "\n",
       "  edge_density_km  street_density_km  circuity_avg self_loop_proportion  \\\n",
       "0    26330.970417       22499.049783      1.014035             0.001250   \n",
       "1    43598.513632       35685.441016      1.010215             0.000514   \n",
       "2    44360.780311       32394.428182      1.008452             0.000000   \n",
       "3    28946.199668       18123.142752      1.041690             0.000000   \n",
       "4    36087.051021       24851.686072      1.022940             0.000000   \n",
       "\n",
       "   clean_intersection_count  clean_intersection_density_km  cluster_number  \n",
       "0                       239                     105.905438               1  \n",
       "1                       511                     212.383825               1  \n",
       "2                       543                     215.996565               1  \n",
       "3                       257                     105.025141               1  \n",
       "4                       396                     162.524819               1  \n",
       "\n",
       "[5 rows x 38 columns]"
      ]
     },
     "execution_count": 36,
     "metadata": {},
     "output_type": "execute_result"
    }
   ],
   "source": [
    "# 駅のデータにクラスター番号のデータを結合\n",
    "stations_with_cluster = pd.concat([stations, pd.Series(labels, index=stations.index)], axis=1)\n",
    "\n",
    "# 先頭の5行を表示\n",
    "stations_with_cluster.head()"
   ]
  },
  {
   "cell_type": "code",
   "execution_count": 19,
   "metadata": {},
   "outputs": [
    {
     "data": {
      "image/png": "[encoded data removed]",
      "text/plain": [
       "<Figure size 432x288 with 1 Axes>"
      ]
     },
     "metadata": {
      "needs_background": "light"
     },
     "output_type": "display_data"
    },
    {
     "data": {
      "image/png": "[encoded data removed]",
      "text/plain": [
       "<Figure size 432x288 with 1 Axes>"
      ]
     },
     "metadata": {
      "needs_background": "light"
     },
     "output_type": "display_data"
    }
   ],
   "source": [
    "stations_0 = stations_with_cluster[stations_with_cluster['cluster_number'] == 0]\n",
    "stations_1 = stations_with_cluster[stations_with_cluster['cluster_number'] == 1]\n",
    "stations_2 = stations_with_cluster[stations_with_cluster['cluster_number'] == 2]\n",
    "# クラスタリング結果のグラフ化\n",
    "ax = None\n",
    "colors = ['red', 'pink', 'blue']\n",
    "for i, station in stations_with_cluster.groupby('cluster_number'):\n",
    "    station.plot.scatter(x='circuity_avg', y='streets_per_node_avg', color=colors[i], label='cluster{i}', ax=ax)"
   ]
  },
  {
   "cell_type": "code",
   "execution_count": 20,
   "metadata": {},
   "outputs": [
    {
     "data": {
      "text/html": [
       "<div>\n",
       "<style scoped>\n",
       "    .dataframe tbody tr th:only-of-type {\n",
       "        vertical-align: middle;\n",
       "    }\n",
       "\n",
       "    .dataframe tbody tr th {\n",
       "        vertical-align: top;\n",
       "    }\n",
       "\n",
       "    .dataframe thead th {\n",
       "        text-align: right;\n",
       "    }\n",
       "</style>\n",
       "<table border=\"1\" class=\"dataframe\">\n",
       "  <thead>\n",
       "    <tr style=\"text-align: right;\">\n",
       "      <th>line_cd</th>\n",
       "      <th>11312</th>\n",
       "      <th>24001</th>\n",
       "    </tr>\n",
       "    <tr>\n",
       "      <th>cluster_number</th>\n",
       "      <th></th>\n",
       "      <th></th>\n",
       "    </tr>\n",
       "  </thead>\n",
       "  <tbody>\n",
       "    <tr>\n",
       "      <th>0</th>\n",
       "      <td>12</td>\n",
       "      <td>3</td>\n",
       "    </tr>\n",
       "    <tr>\n",
       "      <th>1</th>\n",
       "      <td>12</td>\n",
       "      <td>29</td>\n",
       "    </tr>\n",
       "  </tbody>\n",
       "</table>\n",
       "</div>"
      ],
      "text/plain": [
       "line_cd         11312  24001\n",
       "cluster_number              \n",
       "0                  12      3\n",
       "1                  12     29"
      ]
     },
     "execution_count": 20,
     "metadata": {},
     "output_type": "execute_result"
    }
   ],
   "source": [
    "# クラスタ番号と年齢層を軸に集計し、年齢層を列に設定\n",
    "cross_cluster_line_cd = stations_with_cluster.groupby(['cluster_number', 'line_cd']).size().unstack().fillna(0)\n",
    "cross_cluster_line_cd"
   ]
  },
  {
   "cell_type": "code",
   "execution_count": 21,
   "metadata": {},
   "outputs": [
    {
     "data": {
      "text/plain": [
       "<AxesSubplot:xlabel='line_cd', ylabel='cluster_number'>"
      ]
     },
     "execution_count": 21,
     "metadata": {},
     "output_type": "execute_result"
    },
    {
     "data": {
      "image/png": "[encoded data removed]",
      "text/plain": [
       "<Figure size 432x288 with 2 Axes>"
      ]
     },
     "metadata": {
      "needs_background": "light"
     },
     "output_type": "display_data"
    }
   ],
   "source": [
    "sns.heatmap(cross_cluster_line_cd.apply(lambda x : x/x.sum(), axis=1), cmap='Blues')"
   ]
  },
  {
   "cell_type": "code",
   "execution_count": 22,
   "metadata": {},
   "outputs": [
    {
     "name": "stdout",
     "output_type": "stream",
     "text": [
      "['東京', '神田', '御茶ノ水', '新宿', '高円寺', '西荻窪', '吉祥寺', '三鷹', '立川', '豊田', '八王子', '西八王子', '新宿', '府中', '京王八王子']\n"
     ]
    }
   ],
   "source": [
    "print([station['station_name'] for _, station in stations_with_cluster.iterrows() if (station['cluster_number'] == 0)])"
   ]
  },
  {
   "cell_type": "code",
   "execution_count": 23,
   "metadata": {},
   "outputs": [
    {
     "name": "stdout",
     "output_type": "stream",
     "text": [
      "['四ツ谷', '中野', '阿佐ケ谷', '荻窪', '武蔵境', '東小金井', '武蔵小金井', '国分寺', '西国分寺', '国立', '日野', '高尾', '笹塚', '代田橋', '明大前', '下高井戸', '桜上水', '上北沢', '八幡山', '芦花公園', '千歳烏山', '仙川', 'つつじヶ丘', '柴崎', '国領', '布田', '調布', '西調布', '飛田給', '武蔵野台', '多磨霊園', '東府中', '分倍河原', '中河原', '聖蹟桜ヶ丘', '百草園', '高幡不動', '南平', '平山城址公園', '長沼', '北野']\n"
     ]
    }
   ],
   "source": [
    "print([station['station_name'] for _, station in stations_with_cluster.iterrows() if (station['cluster_number'] == 1)])"
   ]
  },
  {
   "cell_type": "code",
   "execution_count": null,
   "metadata": {},
   "outputs": [],
   "source": []
  }
 ],
 "metadata": {
  "kernelspec": {
   "display_name": "Python 3",
   "language": "python",
   "name": "python3"
  },
  "language_info": {
   "codemirror_mode": {
    "name": "ipython",
    "version": 3
   },
   "file_extension": ".py",
   "mimetype": "text/x-python",
   "name": "python",
   "nbconvert_exporter": "python",
   "pygments_lexer": "ipython3",
   "version": "3.8.5"
  }
 },
 "nbformat": 4,
 "nbformat_minor": 4
}
